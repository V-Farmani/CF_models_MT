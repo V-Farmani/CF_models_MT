{
 "cells": [
  {
   "cell_type": "code",
   "execution_count": 1,
   "id": "ad8efb7c",
   "metadata": {},
   "outputs": [],
   "source": [
    "# Import packages\n",
    "import pandas as pd\n",
    "import numpy as np\n",
    "from math import floor, ceil\n",
    "import random\n",
    "\n",
    "from sklearn.ensemble import RandomForestClassifier\n",
    "from sklearn.model_selection import train_test_split, StratifiedKFold, GridSearchCV, cross_val_score\n",
    "from sklearn.metrics import (accuracy_score, f1_score, confusion_matrix , classification_report,\n",
    "                            roc_curve, roc_auc_score, precision_recall_curve, log_loss, auc)\n",
    "from sklearn.calibration import CalibratedClassifierCV, calibration_curve\n",
    "from statsmodels.stats.weightstats import ttest_ind\n",
    "from sklearn.linear_model import LogisticRegression\n",
    "from sklearn.inspection import permutation_importance\n",
    "\n",
    "import matplotlib.pyplot as plt\n",
    "import datetime\n",
    "import seaborn as sns\n",
    "from scipy import stats\n",
    "import statsmodels.api as sm\n",
    "import pingouin as pg\n",
    "\n",
    "import warnings\n",
    "warnings.filterwarnings('ignore')"
   ]
  },
  {
   "cell_type": "code",
   "execution_count": 2,
   "id": "e27e1fe9-de8c-4684-9064-05ddfcd03997",
   "metadata": {},
   "outputs": [],
   "source": [
    "# setting random seed to ensure consistent results\n",
    "rnd_num = 42\n",
    "random.seed(rnd_num)\n",
    "np.random.seed(rnd_num)"
   ]
  },
  {
   "cell_type": "markdown",
   "id": "dc23084b",
   "metadata": {},
   "source": [
    "### Defining Functions"
   ]
  },
  {
   "cell_type": "code",
   "execution_count": 3,
   "id": "e694c32a",
   "metadata": {},
   "outputs": [],
   "source": [
    "# function to print confusion matrix\n",
    "def print_confusion_matrix(confusion_matrix, class_names, figsize = (7,4), fontsize=10):\n",
    "    df_cm = pd.DataFrame(\n",
    "        confusion_matrix, index=class_names, columns=class_names, \n",
    "    )\n",
    "    fig = plt.figure(figsize=figsize)\n",
    "    try:\n",
    "        heatmap = sns.heatmap(df_cm, cmap=\"Greens\", annot=True, fmt=\"d\")\n",
    "    except ValueError:\n",
    "        raise ValueError(\"Confusion matrix values must be integers.\")\n",
    "    heatmap.yaxis.set_ticklabels(heatmap.yaxis.get_ticklabels(), rotation=90, ha='right', fontsize=fontsize)\n",
    "    heatmap.xaxis.set_ticklabels(heatmap.xaxis.get_ticklabels(), rotation=0, ha='center', fontsize=fontsize)\n",
    "    plt.ylabel('True label\\n')\n",
    "    plt.xlabel('\\nPredicted label')\n",
    "    return fig\n",
    "\n",
    "# calculate Number Needed to Treat\n",
    "def calculate_nnt(y_nonreperfusion, y_reperfusion):\n",
    "    ARR = abs(y_nonreperfusion.mean() - y_reperfusion.mean())\n",
    "    \n",
    "    NNT = ceil(1/ARR)\n",
    "    if y_nonreperfusion.mean() > y_reperfusion.mean(): # number needed to treat (positive output)\n",
    "        return NNT\n",
    "    elif y_nonreperfusion.mean() < y_reperfusion.mean(): # number needed to harm (negative output)\n",
    "        return -1*NNT\n",
    "    elif y_nonreperfusion.mean() == y_reperfusion.mean(): # no effect\n",
    "        return 0\n",
    "\n",
    "\n",
    "# defining a function to calculate and plot AUROC and AUPRC and their 95% CI\n",
    "def calculate_bootstrap_roc_pr(y_true, y_scores, n_bootstraps=1000):\n",
    "    np.random.seed(rnd_num)\n",
    "    n_size = len(y_true)\n",
    "\n",
    "    y_true = np.array(y_true)\n",
    "    y_scores = np.array(y_scores)\n",
    "\n",
    "    bs_tpr = [] # bootstrapped true positive rate\n",
    "    bs_precision = [] # bootstrapped precision\n",
    "    bs_auroc = [] # bootstraped AUROC\n",
    "    bs_auprc = [] # bootstrapped AUPRC\n",
    "\n",
    "    base_fpr = np.linspace(0, 1, 101) # false positive rate\n",
    "    base_recall = np.linspace(0, 1, 101) # recall\n",
    "\n",
    "    for _ in range(n_bootstraps):\n",
    "        indices = np.random.randint(0, n_size, n_size)\n",
    "        y_true_resampled = y_true[indices]\n",
    "        y_scores_resampled = y_scores[indices]\n",
    "\n",
    "        if len(np.unique(y_true_resampled)) < 2:\n",
    "            continue\n",
    "\n",
    "        fpr, tpr, _ = roc_curve(y_true_resampled, y_scores_resampled)\n",
    "        tpr_interp = np.interp(base_fpr, fpr, tpr)\n",
    "        tpr_interp[0] = 0.0\n",
    "        bs_tpr.append(tpr_interp)\n",
    "        bs_auroc.append(auc(fpr, tpr))\n",
    "\n",
    "        precision, recall, _ = precision_recall_curve(y_true_resampled, y_scores_resampled)\n",
    "        precision_interp = np.interp(base_recall, recall[::-1], precision[::-1])\n",
    "        bs_precision.append(precision_interp)\n",
    "        bs_auprc.append(auc(recall, precision))\n",
    "\n",
    "    results = {\n",
    "        'base_fpr': base_fpr,\n",
    "        'mean_tpr': np.mean(bs_tpr, axis=0),\n",
    "        'tpr_ci_lower': np.percentile(bs_tpr, 2.5, axis=0),\n",
    "        'tpr_ci_upper': np.percentile(bs_tpr, 97.5, axis=0),\n",
    "        'base_recall': base_recall,\n",
    "        'mean_precision': np.mean(bs_precision, axis=0),\n",
    "        'precision_ci_lower': np.percentile(bs_precision, 2.5, axis=0),\n",
    "        'precision_ci_upper': np.percentile(bs_precision, 97.5, axis=0),\n",
    "        'auroc': (np.mean(bs_auroc), np.percentile(bs_auroc, 2.5), np.percentile(bs_auroc, 97.5)),\n",
    "        'auprc': (np.mean(bs_auprc), np.percentile(bs_auprc, 2.5), np.percentile(bs_auprc, 97.5))\n",
    "    }\n",
    "    return results"
   ]
  },
  {
   "cell_type": "code",
   "execution_count": 4,
   "id": "45dc5b7c-7fc9-4aa7-882f-b3f745e3f32c",
   "metadata": {},
   "outputs": [],
   "source": [
    "# setting font for the figures\n",
    "plt.rcParams['font.family'] = 'Times New Roman'"
   ]
  },
  {
   "cell_type": "markdown",
   "id": "63041f76",
   "metadata": {},
   "source": [
    "# Data Preprocessing"
   ]
  },
  {
   "cell_type": "code",
   "execution_count": 5,
   "id": "79440b7f",
   "metadata": {},
   "outputs": [],
   "source": [
    "# reading the dataset file\n",
    "FILE = r\"./GSR_imputed_KNN_RF.xlsx\"\n",
    "sheet_name = r\"Sheet1\"\n",
    "\n",
    "df = pd.read_excel(io=FILE, sheet_name=sheet_name)\n",
    "\n",
    "# defining pre-treatment features \n",
    "pre_treat_features = ['Age' , 'Sex' , 'Antithrombotic medication' , 'pre-mRS', 'NIHSS at admission',\n",
    "                      'Hypertension' , 'Diabetes mellitus' , 'Dyslipidemia' , 'Atrial fibrillation' , 'ASPECTS',\n",
    "                       'IVT', 'TICI before angio'\n",
    "                      , 'Ant/post occlusion',\n",
    "                      'BA occlusion', 'VA occlusion', 'PCA occlusion',\n",
    "                     'ACA occlusion', 'CA intra T' , 'CA intra no-T' ,\n",
    "                     'CA extra' , 'proximal M1 occlusion' ,\n",
    "                     'MCA m1 dist occlusion' , 'MCA-M2 occlusion'\n",
    "                      ]"
   ]
  },
  {
   "cell_type": "code",
   "execution_count": 6,
   "id": "75bd1257-d360-494e-9a31-86d10b9562dd",
   "metadata": {},
   "outputs": [
    {
     "data": {
      "text/plain": [
       "23"
      ]
     },
     "execution_count": 6,
     "metadata": {},
     "output_type": "execute_result"
    }
   ],
   "source": [
    "# number of pre-reperfusion features\n",
    "len(pre_treat_features)"
   ]
  },
  {
   "cell_type": "code",
   "execution_count": 7,
   "id": "87dedf6a-0336-45f8-aa98-83b71604fd73",
   "metadata": {},
   "outputs": [],
   "source": [
    "# defining binary mRS and adding ID to each patient\n",
    "df['D90_mrs_binary'] = df['D90_mrs'].replace([0, 1, 2], 0).replace([3,4,5,6], 1)\n",
    "df = df[['Patient_ID'] + pre_treat_features + ['Final TICI'] + ['D90_mrs_binary']]"
   ]
  },
  {
   "cell_type": "code",
   "execution_count": 8,
   "id": "e34471f6",
   "metadata": {},
   "outputs": [],
   "source": [
    "# deviding data into two groups: nonreperfusion and reperfusion based on their TICI score:\n",
    "# 0, 1 and 2 are labels for TICI scores 0 , 1 and 2a\n",
    "# 3 and 4 are labels for TICI score 2b and 3\n",
    "df_nonreperfusion = df.query(\"`Final TICI` <= 2\")[pre_treat_features]\n",
    "df_nonreperfusion['D90_mrs_binary'] = df.query(\"`Final TICI` <= 2\")['D90_mrs_binary']\n",
    "\n",
    "df_reperfusion = df.query(\"`Final TICI` >= 3\")[pre_treat_features]\n",
    "df_reperfusion['D90_mrs_binary'] = df.query(\"`Final TICI` >= 3\")['D90_mrs_binary']"
   ]
  },
  {
   "cell_type": "code",
   "execution_count": 9,
   "id": "e80475da",
   "metadata": {},
   "outputs": [
    {
     "name": "stdout",
     "output_type": "stream",
     "text": [
      "Control group shape: (1718, 24)\n",
      "Treatment group shape: (10339, 24)\n"
     ]
    }
   ],
   "source": [
    "# shape of each group: (number of patients, number of variables including pre-treat features and outcome)\n",
    "print(f'nonreperfusion group shape: {df_nonreperfusion.shape}')\n",
    "print(f'reperfusion group shape: {df_reperfusion.shape}')"
   ]
  },
  {
   "cell_type": "code",
   "execution_count": 10,
   "id": "eded17d6",
   "metadata": {},
   "outputs": [
    {
     "name": "stdout",
     "output_type": "stream",
     "text": [
      "Ratio of bad outcome in control group: 86.55\n",
      "Ratio of bad outcome in treatment group: 62.62\n"
     ]
    }
   ],
   "source": [
    "# percentage of patients with bad outcome in each group\n",
    "print(f'Ratio of bad outcome in nonreperfusion group: {df_nonreperfusion.D90_mrs_binary.mean()*100:.2f}')\n",
    "print(f'Ratio of bad outcome in reperfusion group: {df_reperfusion.D90_mrs_binary.mean()*100:.2f}')"
   ]
  },
  {
   "cell_type": "code",
   "execution_count": 11,
   "id": "5eaa8562-a988-4b8b-87e1-59ac39455718",
   "metadata": {},
   "outputs": [
    {
     "data": {
      "text/plain": [
       "D90_mrs_binary\n",
       "1    1487\n",
       "0     231\n",
       "Name: count, dtype: int64"
      ]
     },
     "execution_count": 11,
     "metadata": {},
     "output_type": "execute_result"
    }
   ],
   "source": [
    "# number of patients with good outcome (0) and bad outcome (1) in nonreperfusion group\n",
    "df_nonreperfusion.D90_mrs_binary.value_counts()"
   ]
  },
  {
   "cell_type": "code",
   "execution_count": 12,
   "id": "7c232b66-00cd-44d6-a6d8-578b438fa20e",
   "metadata": {},
   "outputs": [
    {
     "data": {
      "text/plain": [
       "D90_mrs_binary\n",
       "1    6474\n",
       "0    3865\n",
       "Name: count, dtype: int64"
      ]
     },
     "execution_count": 12,
     "metadata": {},
     "output_type": "execute_result"
    }
   ],
   "source": [
    "# number of patients with good outcome (0) and bad outcome (1) in reperfusion group\n",
    "df_reperfusion.D90_mrs_binary.value_counts()"
   ]
  },
  {
   "cell_type": "code",
   "execution_count": 13,
   "id": "bcda3593",
   "metadata": {},
   "outputs": [
    {
     "data": {
      "text/plain": [
       "5"
      ]
     },
     "execution_count": 13,
     "metadata": {},
     "output_type": "execute_result"
    }
   ],
   "source": [
    "# Number needed to treat\n",
    "calculate_nnt(df_nonreperfusion.D90_mrs_binary, df_reperfusion.D90_mrs_binary)"
   ]
  },
  {
   "cell_type": "markdown",
   "id": "dcea64f3",
   "metadata": {},
   "source": [
    "## Train/Test split"
   ]
  },
  {
   "cell_type": "code",
   "execution_count": 14,
   "id": "7f563378",
   "metadata": {},
   "outputs": [],
   "source": [
    "# split data to train and test the model\n",
    "X_train_nonreperfusion, X_test_nonreperfusion, y_train_nonreperfusion, y_test_nonreperfusion = train_test_split(\n",
    "    df_nonreperfusion[pre_treat_features], df_nonreperfusion['D90_mrs_binary'], test_size=0.2, random_state=rnd_num)\n",
    "\n",
    "X_train_reperfusion, X_test_reperfusion, y_train_reperfusion, y_test_reperfusion = train_test_split(\n",
    "    df_reperfusion[pre_treat_features], df_reperfusion['D90_mrs_binary'], test_size=0.2, random_state=rnd_num)"
   ]
  },
  {
   "cell_type": "markdown",
   "id": "aca434fb-7e55-46cc-82a9-6e6130158052",
   "metadata": {},
   "source": [
    "# Random Forest"
   ]
  },
  {
   "cell_type": "markdown",
   "id": "c90b3116",
   "metadata": {},
   "source": [
    "## Training RF<sub>nr</sub>"
   ]
  },
  {
   "cell_type": "code",
   "execution_count": 15,
   "id": "ed52f7c5",
   "metadata": {},
   "outputs": [
    {
     "name": "stdout",
     "output_type": "stream",
     "text": [
      "Best Estimator:\n",
      "RandomForestClassifier(class_weight='balanced', max_depth=8, min_samples_leaf=8,\n",
      "                       min_samples_split=16, n_estimators=500, random_state=42)\n",
      "CV score: 0.73\n",
      "Test Score is: 0.73\n"
     ]
    }
   ],
   "source": [
    "# training random forst RFnr on data from nonreperfusion group. optimizing using grid search with 5-fold cv\n",
    "param_grid = []\n",
    "for max_depth in np.arange(5, floor(0.5 * len(pre_treat_features))):\n",
    "    for min_samples_leaf in np.arange(1, 10):\n",
    "        min_samples_split = 2 * min_samples_leaf\n",
    "        param_grid.append({\n",
    "            'max_depth': [max_depth],\n",
    "            'min_samples_leaf': [min_samples_leaf],\n",
    "            'min_samples_split': [min_samples_split],\n",
    "            'n_estimators': [500]\n",
    "        })\n",
    "\n",
    "clf_RFnr_base = GridSearchCV(RandomForestClassifier(class_weight='balanced', random_state=rnd_num),\n",
    "                     param_grid = param_grid,\n",
    "                      cv = StratifiedKFold(n_splits=5, shuffle=True, random_state=rnd_num),\n",
    "                      scoring = 'balanced_accuracy',\n",
    "                      refit= True,\n",
    "                      n_jobs = 10\n",
    "                     )\n",
    "\n",
    "clf_RFnr_base.fit(X_train_nonreperfusion,y_train_nonreperfusion)\n",
    "\n",
    "print('Best Estimator:')\n",
    "print(clf_RFnr_base.best_estimator_)\n",
    "\n",
    "# Training results\n",
    "print(f'CV score: {round(clf_RFnr_base.best_score_, 2)}')\n",
    "print(f\"Test Score is: {clf_RFnr_base.score(X_test_nonreperfusion, y_test_nonreperfusion):.2f}\")"
   ]
  },
  {
   "cell_type": "markdown",
   "id": "2fa17524",
   "metadata": {},
   "source": [
    "### Calibration of RF<sub>nr</sub>"
   ]
  },
  {
   "cell_type": "code",
   "execution_count": 16,
   "id": "5688005b-7546-49ed-a64b-e4700f59f8e6",
   "metadata": {},
   "outputs": [],
   "source": [
    "# Calibrating\n",
    "clf_RFnr = CalibratedClassifierCV(clf_RFnr_base, cv=StratifiedKFold(n_splits=5, shuffle=True, random_state=rnd_num), method='sigmoid')\n",
    "clf_RFnr.fit(X_train_nonreperfusion,y_train_nonreperfusion)\n",
    "\n",
    "y_pred_proba_nonreperfusion_RFnr = clf_RFnr.predict_proba(X_test_nonreperfusion)[:,1]\n",
    "prob_true, prob_pred = calibration_curve(y_test_nonreperfusion, y_pred_proba_nonreperfusion_RFnr, n_bins=5, strategy='quantile')"
   ]
  },
  {
   "cell_type": "code",
   "execution_count": 17,
   "id": "3e103301-1506-4e9b-8e1c-f591e666e5c5",
   "metadata": {},
   "outputs": [
    {
     "name": "stdout",
     "output_type": "stream",
     "text": [
      "\n",
      "Calibration Intercept: -0.027\n",
      "Calibration Slope: 1.030\n"
     ]
    }
   ],
   "source": [
    "model = sm.OLS(prob_true, sm.add_constant(prob_pred)).fit()\n",
    "intercept_RFnr, slope_RFnr = model.params\n",
    "print(f'\\nCalibration Intercept: {intercept_RFnr:.3f}')\n",
    "print(f'Calibration Slope: {slope_RFnr:.3f}')"
   ]
  },
  {
   "cell_type": "markdown",
   "id": "269bc4bc-afbe-4d46-9d60-a510330af707",
   "metadata": {},
   "source": [
    "### Evaluating RF<sub>nr</sub>"
   ]
  },
  {
   "cell_type": "code",
   "execution_count": 18,
   "id": "72534258",
   "metadata": {},
   "outputs": [
    {
     "name": "stdout",
     "output_type": "stream",
     "text": [
      "AUC Control:\t\t\t 0.85\n",
      "              precision    recall  f1-score   support\n",
      "\n",
      "           0       0.56      0.20      0.29        46\n",
      "           1       0.89      0.98      0.93       298\n",
      "\n",
      "    accuracy                           0.87       344\n",
      "   macro avg       0.72      0.59      0.61       344\n",
      "weighted avg       0.84      0.87      0.84       344\n",
      "\n"
     ]
    },
    {
     "data": {
      "image/png": "[encoded data removed]",
      "text/plain": [
       "<Figure size 700x400 with 2 Axes>"
      ]
     },
     "metadata": {},
     "output_type": "display_data"
    }
   ],
   "source": [
    "#Calculate and print AUC of model\n",
    "auc_nonreperfusion_RFnr = roc_auc_score(y_test_nonreperfusion, y_pred_proba_nonreperfusion_RFnr)\n",
    "print(f\"AUC nonreperfusion:\\t\\t\\t {auc_nonreperfusion_RFnr:.2}\")\n",
    "\n",
    "y_pred_nonreperfusion_RFnr = clf_RFnr.predict(X_test_nonreperfusion)\n",
    "print_confusion_matrix(confusion_matrix(y_test_nonreperfusion, y_pred_nonreperfusion_RFnr), [\"Good outcome\", \"Bad outcome\"]);\n",
    "print(classification_report(y_test_nonreperfusion, y_pred_nonreperfusion_RFnr))"
   ]
  },
  {
   "cell_type": "code",
   "execution_count": 20,
   "id": "4215a8dd-df9e-4578-8c03-4506eebef86a",
   "metadata": {},
   "outputs": [],
   "source": [
    "# Test score and CV score\n",
    "CV_score_RFnr = np.mean(cross_val_score(clf_RFnr, X_train_nonreperfusion, y_train_nonreperfusion, cv=5))\n",
    "Test_score_RFnr = accuracy_score(y_true = y_test_nonreperfusion, y_pred = clf_RFnr.predict(X_test_nonreperfusion))"
   ]
  },
  {
   "cell_type": "code",
   "execution_count": 21,
   "id": "eb29ea29-51b3-4054-96f9-802ed348041e",
   "metadata": {},
   "outputs": [
    {
     "name": "stdout",
     "output_type": "stream",
     "text": [
      "CV score: 87.12\n",
      "Test score: 87.21\n"
     ]
    }
   ],
   "source": [
    "# cross validation and test score for RFnr\n",
    "print(f'CV score: {round(CV_score_RFnr * 100, 2)}')\n",
    "print(f'Test score: {round(Test_score_RFnr * 100, 2)}')"
   ]
  },
  {
   "cell_type": "code",
   "execution_count": 22,
   "id": "b3d72a4e-b4d1-4501-bb7b-3081abc9b981",
   "metadata": {},
   "outputs": [
    {
     "name": "stdout",
     "output_type": "stream",
     "text": [
      "AUROC: 0.85 (95% CI: [0.79, 0.90])\n",
      "AUPRC: 0.97 (95% CI: [0.96, 0.98])\n"
     ]
    }
   ],
   "source": [
    "# lower and upper bounds of AUROC and AUPRC for RFnr\n",
    "RFnr_eval_results = calculate_bootstrap_roc_pr(y_test_nonreperfusion, y_pred_proba_nonreperfusion_RFnr)\n",
    "print(f\"AUROC: {RFnr_eval_results['auroc'][0]:.2f} (95% CI: [{RFnr_eval_results['auroc'][1]:.2f}, {RFnr_eval_results['auroc'][2]:.2f}])\")\n",
    "print(f\"AUPRC: {RFnr_eval_results['auprc'][0]:.2f} (95% CI: [{RFnr_eval_results['auprc'][1]:.2f}, {RFnr_eval_results['auprc'][2]:.2f}])\")"
   ]
  },
  {
   "cell_type": "markdown",
   "id": "63cb52c3",
   "metadata": {},
   "source": [
    "### Visualization"
   ]
  },
  {
   "cell_type": "code",
   "execution_count": 23,
   "id": "e16c0958-35ae-41fd-9b2a-93ca2ad0274b",
   "metadata": {},
   "outputs": [
    {
     "data": {
      "image/png": "[encoded data removed]",
      "text/plain": [
       "<Figure size 800x400 with 2 Axes>"
      ]
     },
     "metadata": {},
     "output_type": "display_data"
    }
   ],
   "source": [
    "# plotting ROC and PR curves with no-skill for RFnr\n",
    "plt.figure(figsize=(8, 4))\n",
    "plt.subplot(1, 2, 1)\n",
    "plt.plot(RFnr_eval_results['base_fpr'], RFnr_eval_results['mean_tpr'], '#7c7d7d',\n",
    "         label='Mean ROC (AUC = {:.2f})'.format(RFnr_eval_results['auroc'][0]))\n",
    "plt.fill_between(RFnr_eval_results['base_fpr'], RFnr_eval_results['tpr_ci_lower'],\n",
    "                 RFnr_eval_results['tpr_ci_upper'], color='#7c7d7d', alpha=0.2, label='95% CI')\n",
    "plt.axis([0, 1, 0, 1])\n",
    "plt.plot([0, 1], [0, 1], 'k--', label='No-skill (AUC = 0.50)')\n",
    "plt.xlabel('False Positive Rate')\n",
    "plt.ylabel('True Positive Rate')\n",
    "plt.legend(loc='lower right')\n",
    "plt.text(-0.15, 1.05, '(A)', transform=plt.gca().transAxes, fontsize=14, fontweight='bold')\n",
    "\n",
    "no_skill = len(y_test_nonreperfusion[y_test_nonreperfusion ==1]) / len(y_test_nonreperfusion)\n",
    "\n",
    "plt.subplot(1, 2, 2)\n",
    "plt.plot(RFnr_eval_results['base_recall'], RFnr_eval_results['mean_precision'], '#7c7d7d',\n",
    "         label='Mean PR (AUC = {:.2f})'.format(RFnr_eval_results['auprc'][0]))\n",
    "plt.fill_between(RFnr_eval_results['base_recall'], RFnr_eval_results['precision_ci_lower'],\n",
    "                 RFnr_eval_results['precision_ci_upper'], color='#7c7d7d', alpha=0.2, label='95% CI')\n",
    "plt.plot([0, 1], [no_skill, no_skill], 'k--', label='No-skill (Precision = {:.2f})'.format(no_skill))\n",
    "\n",
    "plt.axis([0, 1, 0, 1])\n",
    "plt.xlabel('Recall')\n",
    "plt.ylabel('Precision')\n",
    "plt.legend(loc='lower left')\n",
    "plt.text(-0.15, 1.05, '(B)', transform=plt.gca().transAxes, fontsize=14, fontweight='bold')\n",
    "plt.tight_layout()\n",
    "plt.savefig('RFnr curves.png')\n",
    "plt.show()"
   ]
  },
  {
   "cell_type": "markdown",
   "id": "7e8bfdea-6424-4246-bbdf-a15925e66439",
   "metadata": {},
   "source": [
    "#### RF<sub>nr</sub> Feature Importance"
   ]
  },
  {
   "cell_type": "code",
   "execution_count": 24,
   "id": "9064570a-1be3-45c9-a78f-ff691682e0b6",
   "metadata": {},
   "outputs": [
    {
     "data": {
      "text/html": [
       "<div>\n",
       "<style scoped>\n",
       "    .dataframe tbody tr th:only-of-type {\n",
       "        vertical-align: middle;\n",
       "    }\n",
       "\n",
       "    .dataframe tbody tr th {\n",
       "        vertical-align: top;\n",
       "    }\n",
       "\n",
       "    .dataframe thead th {\n",
       "        text-align: right;\n",
       "    }\n",
       "</style>\n",
       "<table border=\"1\" class=\"dataframe\">\n",
       "  <thead>\n",
       "    <tr style=\"text-align: right;\">\n",
       "      <th></th>\n",
       "      <th>Feature</th>\n",
       "      <th>Importance</th>\n",
       "    </tr>\n",
       "  </thead>\n",
       "  <tbody>\n",
       "    <tr>\n",
       "      <th>4</th>\n",
       "      <td>NIHSS at admission</td>\n",
       "      <td>0.019440</td>\n",
       "    </tr>\n",
       "    <tr>\n",
       "      <th>0</th>\n",
       "      <td>Age</td>\n",
       "      <td>0.014461</td>\n",
       "    </tr>\n",
       "    <tr>\n",
       "      <th>3</th>\n",
       "      <td>pre-mRS</td>\n",
       "      <td>0.012584</td>\n",
       "    </tr>\n",
       "    <tr>\n",
       "      <th>9</th>\n",
       "      <td>ASPECTS</td>\n",
       "      <td>0.009148</td>\n",
       "    </tr>\n",
       "    <tr>\n",
       "      <th>10</th>\n",
       "      <td>IVT</td>\n",
       "      <td>0.005298</td>\n",
       "    </tr>\n",
       "    <tr>\n",
       "      <th>6</th>\n",
       "      <td>Diabetes mellitus</td>\n",
       "      <td>0.004680</td>\n",
       "    </tr>\n",
       "    <tr>\n",
       "      <th>7</th>\n",
       "      <td>Dyslipidemia</td>\n",
       "      <td>0.003799</td>\n",
       "    </tr>\n",
       "    <tr>\n",
       "      <th>20</th>\n",
       "      <td>proximal M1 occlusion</td>\n",
       "      <td>0.002540</td>\n",
       "    </tr>\n",
       "    <tr>\n",
       "      <th>2</th>\n",
       "      <td>Antithrombotic medication</td>\n",
       "      <td>0.002191</td>\n",
       "    </tr>\n",
       "    <tr>\n",
       "      <th>13</th>\n",
       "      <td>BA occlusion</td>\n",
       "      <td>0.002154</td>\n",
       "    </tr>\n",
       "    <tr>\n",
       "      <th>19</th>\n",
       "      <td>CA extra</td>\n",
       "      <td>0.001863</td>\n",
       "    </tr>\n",
       "    <tr>\n",
       "      <th>5</th>\n",
       "      <td>Hypertension</td>\n",
       "      <td>0.001820</td>\n",
       "    </tr>\n",
       "    <tr>\n",
       "      <th>21</th>\n",
       "      <td>MCA m1 dist occlusion</td>\n",
       "      <td>0.001499</td>\n",
       "    </tr>\n",
       "    <tr>\n",
       "      <th>8</th>\n",
       "      <td>Atrial fibrillation</td>\n",
       "      <td>0.001405</td>\n",
       "    </tr>\n",
       "    <tr>\n",
       "      <th>1</th>\n",
       "      <td>Sex</td>\n",
       "      <td>0.001164</td>\n",
       "    </tr>\n",
       "    <tr>\n",
       "      <th>16</th>\n",
       "      <td>ACA occlusion</td>\n",
       "      <td>0.001033</td>\n",
       "    </tr>\n",
       "    <tr>\n",
       "      <th>22</th>\n",
       "      <td>MCA-M2 occlusion</td>\n",
       "      <td>0.000983</td>\n",
       "    </tr>\n",
       "    <tr>\n",
       "      <th>18</th>\n",
       "      <td>CA intra no-T</td>\n",
       "      <td>0.000975</td>\n",
       "    </tr>\n",
       "    <tr>\n",
       "      <th>17</th>\n",
       "      <td>CA intra T</td>\n",
       "      <td>0.000262</td>\n",
       "    </tr>\n",
       "    <tr>\n",
       "      <th>12</th>\n",
       "      <td>Ant/post occlusion</td>\n",
       "      <td>0.000080</td>\n",
       "    </tr>\n",
       "    <tr>\n",
       "      <th>11</th>\n",
       "      <td>TICI before angio</td>\n",
       "      <td>0.000036</td>\n",
       "    </tr>\n",
       "    <tr>\n",
       "      <th>14</th>\n",
       "      <td>VA occlusion</td>\n",
       "      <td>0.000022</td>\n",
       "    </tr>\n",
       "    <tr>\n",
       "      <th>15</th>\n",
       "      <td>PCA occlusion</td>\n",
       "      <td>-0.000015</td>\n",
       "    </tr>\n",
       "  </tbody>\n",
       "</table>\n",
       "</div>"
      ],
      "text/plain": [
       "                      Feature  Importance\n",
       "4          NIHSS at admission    0.019440\n",
       "0                         Age    0.014461\n",
       "3                     pre-mRS    0.012584\n",
       "9                     ASPECTS    0.009148\n",
       "10                        IVT    0.005298\n",
       "6           Diabetes mellitus    0.004680\n",
       "7                Dyslipidemia    0.003799\n",
       "20      proximal M1 occlusion    0.002540\n",
       "2   Antithrombotic medication    0.002191\n",
       "13               BA occlusion    0.002154\n",
       "19                   CA extra    0.001863\n",
       "5                Hypertension    0.001820\n",
       "21      MCA m1 dist occlusion    0.001499\n",
       "8         Atrial fibrillation    0.001405\n",
       "1                         Sex    0.001164\n",
       "16              ACA occlusion    0.001033\n",
       "22           MCA-M2 occlusion    0.000983\n",
       "18              CA intra no-T    0.000975\n",
       "17                 CA intra T    0.000262\n",
       "12         Ant/post occlusion    0.000080\n",
       "11          TICI before angio    0.000036\n",
       "14               VA occlusion    0.000022\n",
       "15              PCA occlusion   -0.000015"
      ]
     },
     "execution_count": 24,
     "metadata": {},
     "output_type": "execute_result"
    }
   ],
   "source": [
    "# Permutation based feature importance\n",
    "permutation_importance_result = permutation_importance(clf_RFnr, X_train_nonreperfusion, y_train_nonreperfusion, n_repeats=100, random_state=42)\n",
    "feature_importance_pi_RFnr = pd.DataFrame({\n",
    "    'Feature': X_test_nonreperfusion.columns,\n",
    "    'Importance': permutation_importance_result.importances_mean\n",
    "})\n",
    "feature_importance_pi_RFnr = feature_importance_pi_RFnr.sort_values(by='Importance', ascending=False)\n",
    "feature_importance_pi_RFnr"
   ]
  },
  {
   "cell_type": "markdown",
   "id": "2a791aff",
   "metadata": {},
   "source": [
    "## Training RF<sub>r</sub>"
   ]
  },
  {
   "cell_type": "code",
   "execution_count": 25,
   "id": "7a9c5ab0",
   "metadata": {},
   "outputs": [
    {
     "name": "stdout",
     "output_type": "stream",
     "text": [
      "Before Calibration:\n",
      "\n",
      "RandomForestClassifier(class_weight='balanced', max_depth=10,\n",
      "                       min_samples_leaf=52, min_samples_split=104,\n",
      "                       n_estimators=500, random_state=42)\n",
      "CV score: 0.75\n",
      "Test Score is: 0.76\n"
     ]
    }
   ],
   "source": [
    "param_grid = []\n",
    "for max_depth in np.arange(5, floor(0.5 * len(pre_treat_features))):\n",
    "    for min_samples_leaf in np.arange(40, 60):\n",
    "        min_samples_split = 2 * min_samples_leaf\n",
    "        param_grid.append({\n",
    "            'max_depth': [max_depth],\n",
    "            'min_samples_leaf': [min_samples_leaf],\n",
    "            'min_samples_split': [min_samples_split],\n",
    "            'n_estimators': [500]\n",
    "        })\n",
    "        \n",
    "clf_RFr_base = GridSearchCV(RandomForestClassifier(class_weight='balanced', random_state=rnd_num),\n",
    "                     param_grid=param_grid,\n",
    "                       cv=StratifiedKFold(n_splits=5, shuffle=True, random_state=rnd_num),\n",
    "                       scoring = 'balanced_accuracy',\n",
    "                       refit=True,\n",
    "                       n_jobs = 10\n",
    "                     )\n",
    "\n",
    "clf_RFr_base.fit(X_train_reperfusion,y_train_reperfusion)\n",
    "\n",
    "print('Before Calibration:\\n')\n",
    "print(clf_RFr_base.best_estimator_)\n",
    "\n",
    "# Training results\n",
    "print(f'CV score: {round(clf_RFr_base.best_score_, 2)}')\n",
    "print(f\"Test Score is: {clf_RFr_base.score(X_test_reperfusion, y_test_reperfusion):.2f}\")"
   ]
  },
  {
   "cell_type": "code",
   "execution_count": 26,
   "id": "ca99c9b1",
   "metadata": {},
   "outputs": [],
   "source": [
    "# calibration of RFr model using isotonic method\n",
    "clf_RFr = CalibratedClassifierCV(clf_RFr_base, cv=StratifiedKFold(n_splits=5, shuffle=True, random_state=rnd_num), method='isotonic')\n",
    "clf_RFr.fit(X_test_reperfusion,y_test_reperfusion)\n",
    "\n",
    "y_pred_proba_reperfusion_RFr = clf_RFr.predict_proba(X_test_reperfusion)[::,1]\n",
    "prob_true, prob_pred = calibration_curve(y_test_reperfusion, y_pred_proba_reperfusion_RFr, n_bins=5, strategy='quantile')"
   ]
  },
  {
   "cell_type": "code",
   "execution_count": 27,
   "id": "127441e4-5394-4cfd-9bb1-cc7c6f3e8f5a",
   "metadata": {},
   "outputs": [
    {
     "name": "stdout",
     "output_type": "stream",
     "text": [
      "\n",
      "Calibration Intercept: -0.010\n",
      "Calibration Slope: 1.017\n"
     ]
    }
   ],
   "source": [
    "model = sm.OLS(prob_true, sm.add_constant(prob_pred)).fit()\n",
    "intercept_RFr, slope_RFr = model.params\n",
    "print(f'\\nCalibration Intercept: {intercept_RFr:.3f}')\n",
    "print(f'Calibration Slope: {slope_RFr:.3f}')"
   ]
  },
  {
   "cell_type": "markdown",
   "id": "adef933e",
   "metadata": {},
   "source": [
    "### Evaluating RF<sub>r</sub>"
   ]
  },
  {
   "cell_type": "code",
   "execution_count": 28,
   "id": "be58db48",
   "metadata": {},
   "outputs": [
    {
     "name": "stdout",
     "output_type": "stream",
     "text": [
      "AUC Control:\t\t 0.85\n",
      "              precision    recall  f1-score   support\n",
      "\n",
      "           0       0.74      0.60      0.66       765\n",
      "           1       0.79      0.87      0.83      1303\n",
      "\n",
      "    accuracy                           0.77      2068\n",
      "   macro avg       0.76      0.74      0.75      2068\n",
      "weighted avg       0.77      0.77      0.77      2068\n",
      "\n"
     ]
    },
    {
     "data": {
      "image/png": "[encoded data removed]",
      "text/plain": [
       "<Figure size 700x400 with 2 Axes>"
      ]
     },
     "metadata": {},
     "output_type": "display_data"
    }
   ],
   "source": [
    "#Calculate and print AUC of model\n",
    "auc_reperfusion_RFr = roc_auc_score(y_test_reperfusion, y_pred_proba_reperfusion_RFr)\n",
    "print(f\"AUC nonreperfusion:\\t\\t {auc_reperfusion_RFr:.2}\")\n",
    "\n",
    "y_pred_reperfusion_RFr = clf_RFr.predict(X_test_reperfusion)\n",
    "print_confusion_matrix(confusion_matrix(y_test_reperfusion, y_pred_reperfusion_RFr), [\"Good outcome\", \"Bad outcome\"]);\n",
    "print(classification_report(y_test_reperfusion, y_pred_reperfusion_RFr))"
   ]
  },
  {
   "cell_type": "code",
   "execution_count": 29,
   "id": "510bc1dc-7ce3-46e0-9232-7ac724ff7414",
   "metadata": {},
   "outputs": [],
   "source": [
    "# test score and CV score\n",
    "CV_score_RFr = np.mean(cross_val_score(clf_RFr, X_train_reperfusion, y_train_reperfusion, cv=5))\n",
    "Test_score_RFr = accuracy_score(y_true = y_test_reperfusion, y_pred = clf_RFr.predict(X_test_reperfusion))"
   ]
  },
  {
   "cell_type": "code",
   "execution_count": 52,
   "id": "ee0bbd2d-142b-462b-8d35-df7d45db125e",
   "metadata": {},
   "outputs": [
    {
     "name": "stdout",
     "output_type": "stream",
     "text": [
      "CV score: 75.75\n",
      "Test score: 77.37\n"
     ]
    }
   ],
   "source": [
    "# cross validation and test score for RFr\n",
    "print(f'CV score: {round(CV_score_RFr * 100, 2)}')\n",
    "print(f'Test score: {round(Test_score_RFr * 100, 2)}')"
   ]
  },
  {
   "cell_type": "code",
   "execution_count": 31,
   "id": "83a27c55-ace6-4fe7-9d09-aa739788ba14",
   "metadata": {},
   "outputs": [
    {
     "name": "stdout",
     "output_type": "stream",
     "text": [
      "AUROC: 0.85 (95% CI: [0.83, 0.86])\n",
      "AUPRC: 0.91 (95% CI: [0.89, 0.92])\n"
     ]
    }
   ],
   "source": [
    "# lower and upper bounds of AUROC and AUPRC for RFr\n",
    "RFr_eval_results = calculate_bootstrap_roc_pr(y_test_reperfusion, y_pred_proba_reperfusion_RFr)\n",
    "print(f\"AUROC: {RFr_eval_results['auroc'][0]:.2f} (95% CI: [{RFr_eval_results['auroc'][1]:.2f}, {RFr_eval_results['auroc'][2]:.2f}])\")\n",
    "print(f\"AUPRC: {RFr_eval_results['auprc'][0]:.2f} (95% CI: [{RFr_eval_results['auprc'][1]:.2f}, {RFr_eval_results['auprc'][2]:.2f}])\")"
   ]
  },
  {
   "cell_type": "markdown",
   "id": "7e3c490c-934c-4d40-b126-c31b1cf6cbf2",
   "metadata": {},
   "source": [
    "### Visualization"
   ]
  },
  {
   "cell_type": "code",
   "execution_count": 33,
   "id": "2a937b24-6608-4995-9457-2f10ddcd2e6f",
   "metadata": {},
   "outputs": [
    {
     "data": {
      "image/png": "[encoded data removed]",
      "text/plain": [
       "<Figure size 800x400 with 2 Axes>"
      ]
     },
     "metadata": {},
     "output_type": "display_data"
    }
   ],
   "source": [
    "# plotting ROC and PR curves with no-skill for RFr\n",
    "plt.figure(figsize=(8, 4))\n",
    "plt.subplot(1, 2, 1)\n",
    "plt.plot(RFr_eval_results['base_fpr'], RFr_eval_results['mean_tpr'], '#7c7d7d', label='Mean ROC (AUC = {:.2f})'.format(RFr_eval_results['auroc'][0]))\n",
    "plt.fill_between(RFr_eval_results['base_fpr'], RFr_eval_results['tpr_ci_lower'], RFr_eval_results['tpr_ci_upper'], color='#7c7d7d', alpha=0.2, label='95% CI')\n",
    "plt.axis([0, 1, 0, 1])\n",
    "plt.plot([0, 1], [0, 1], 'k--', label='No-skill (AUC = 0.50)')\n",
    "plt.xlabel('False Positive Rate')\n",
    "plt.ylabel('True Positive Rate')\n",
    "# plt.title('ROC Curve with 95% CI')\n",
    "plt.legend(loc='lower right')\n",
    "plt.text(-0.15, 1.05, '(C)', transform=plt.gca().transAxes, fontsize=14, fontweight='bold')\n",
    "\n",
    "no_skill = len(y_test_reperfusion[y_test_reperfusion ==1]) / len(y_test_reperfusion)\n",
    "\n",
    "plt.subplot(1, 2, 2)\n",
    "plt.plot(RFr_eval_results['base_recall'], RFr_eval_results['mean_precision'], '#7c7d7d', label='Mean PR (AUC = {:.2f})'.format(RFr_eval_results['auprc'][0]))\n",
    "plt.fill_between(RFr_eval_results['base_recall'], RFr_eval_results['precision_ci_lower'], RFr_eval_results['precision_ci_upper'], color='#7c7d7d', alpha=0.2, label='95% CI')\n",
    "plt.plot([0, 1], [no_skill, no_skill], 'k--', label='No-skill (Precision = {:.2f})'.format(no_skill))\n",
    "plt.axis([0, 1, 0, 1])\n",
    "plt.xlabel('Recall')\n",
    "plt.ylabel('Precision')\n",
    "# plt.title('PR Curve with 95% CI')\n",
    "plt.legend(loc='lower left')\n",
    "plt.text(-0.15, 1.05, '(D)', transform=plt.gca().transAxes, fontsize=14, fontweight='bold')\n",
    "plt.tight_layout()\n",
    "plt.savefig('RFr curves.png')\n",
    "plt.show()"
   ]
  },
  {
   "cell_type": "markdown",
   "id": "a7a2cfc8-cafc-44f4-a879-86e55533298b",
   "metadata": {},
   "source": [
    "#### RF<sub>r</sub> Feature importance"
   ]
  },
  {
   "cell_type": "code",
   "execution_count": 34,
   "id": "57fe1ad9-ea64-4d05-a062-3b0eb37fab6f",
   "metadata": {},
   "outputs": [
    {
     "data": {
      "text/html": [
       "<div>\n",
       "<style scoped>\n",
       "    .dataframe tbody tr th:only-of-type {\n",
       "        vertical-align: middle;\n",
       "    }\n",
       "\n",
       "    .dataframe tbody tr th {\n",
       "        vertical-align: top;\n",
       "    }\n",
       "\n",
       "    .dataframe thead th {\n",
       "        text-align: right;\n",
       "    }\n",
       "</style>\n",
       "<table border=\"1\" class=\"dataframe\">\n",
       "  <thead>\n",
       "    <tr style=\"text-align: right;\">\n",
       "      <th></th>\n",
       "      <th>Feature</th>\n",
       "      <th>Importance</th>\n",
       "    </tr>\n",
       "  </thead>\n",
       "  <tbody>\n",
       "    <tr>\n",
       "      <th>4</th>\n",
       "      <td>NIHSS at admission</td>\n",
       "      <td>0.062125</td>\n",
       "    </tr>\n",
       "    <tr>\n",
       "      <th>3</th>\n",
       "      <td>pre-mRS</td>\n",
       "      <td>0.048614</td>\n",
       "    </tr>\n",
       "    <tr>\n",
       "      <th>0</th>\n",
       "      <td>Age</td>\n",
       "      <td>0.031741</td>\n",
       "    </tr>\n",
       "    <tr>\n",
       "      <th>9</th>\n",
       "      <td>ASPECTS</td>\n",
       "      <td>0.008311</td>\n",
       "    </tr>\n",
       "    <tr>\n",
       "      <th>10</th>\n",
       "      <td>IVT</td>\n",
       "      <td>0.005223</td>\n",
       "    </tr>\n",
       "    <tr>\n",
       "      <th>6</th>\n",
       "      <td>Diabetes mellitus</td>\n",
       "      <td>0.002244</td>\n",
       "    </tr>\n",
       "    <tr>\n",
       "      <th>11</th>\n",
       "      <td>TICI before angio</td>\n",
       "      <td>0.000960</td>\n",
       "    </tr>\n",
       "    <tr>\n",
       "      <th>17</th>\n",
       "      <td>CA intra T</td>\n",
       "      <td>0.000841</td>\n",
       "    </tr>\n",
       "    <tr>\n",
       "      <th>22</th>\n",
       "      <td>MCA-M2 occlusion</td>\n",
       "      <td>0.000742</td>\n",
       "    </tr>\n",
       "    <tr>\n",
       "      <th>5</th>\n",
       "      <td>Hypertension</td>\n",
       "      <td>0.000556</td>\n",
       "    </tr>\n",
       "    <tr>\n",
       "      <th>2</th>\n",
       "      <td>Antithrombotic medication</td>\n",
       "      <td>0.000426</td>\n",
       "    </tr>\n",
       "    <tr>\n",
       "      <th>1</th>\n",
       "      <td>Sex</td>\n",
       "      <td>0.000369</td>\n",
       "    </tr>\n",
       "    <tr>\n",
       "      <th>7</th>\n",
       "      <td>Dyslipidemia</td>\n",
       "      <td>0.000303</td>\n",
       "    </tr>\n",
       "    <tr>\n",
       "      <th>12</th>\n",
       "      <td>Ant/post occlusion</td>\n",
       "      <td>0.000220</td>\n",
       "    </tr>\n",
       "    <tr>\n",
       "      <th>13</th>\n",
       "      <td>BA occlusion</td>\n",
       "      <td>0.000187</td>\n",
       "    </tr>\n",
       "    <tr>\n",
       "      <th>21</th>\n",
       "      <td>MCA m1 dist occlusion</td>\n",
       "      <td>0.000133</td>\n",
       "    </tr>\n",
       "    <tr>\n",
       "      <th>18</th>\n",
       "      <td>CA intra no-T</td>\n",
       "      <td>0.000023</td>\n",
       "    </tr>\n",
       "    <tr>\n",
       "      <th>14</th>\n",
       "      <td>VA occlusion</td>\n",
       "      <td>0.000000</td>\n",
       "    </tr>\n",
       "    <tr>\n",
       "      <th>15</th>\n",
       "      <td>PCA occlusion</td>\n",
       "      <td>-0.000004</td>\n",
       "    </tr>\n",
       "    <tr>\n",
       "      <th>16</th>\n",
       "      <td>ACA occlusion</td>\n",
       "      <td>-0.000013</td>\n",
       "    </tr>\n",
       "    <tr>\n",
       "      <th>19</th>\n",
       "      <td>CA extra</td>\n",
       "      <td>-0.000013</td>\n",
       "    </tr>\n",
       "    <tr>\n",
       "      <th>8</th>\n",
       "      <td>Atrial fibrillation</td>\n",
       "      <td>-0.000214</td>\n",
       "    </tr>\n",
       "    <tr>\n",
       "      <th>20</th>\n",
       "      <td>proximal M1 occlusion</td>\n",
       "      <td>-0.000291</td>\n",
       "    </tr>\n",
       "  </tbody>\n",
       "</table>\n",
       "</div>"
      ],
      "text/plain": [
       "                      Feature  Importance\n",
       "4          NIHSS at admission    0.062125\n",
       "3                     pre-mRS    0.048614\n",
       "0                         Age    0.031741\n",
       "9                     ASPECTS    0.008311\n",
       "10                        IVT    0.005223\n",
       "6           Diabetes mellitus    0.002244\n",
       "11          TICI before angio    0.000960\n",
       "17                 CA intra T    0.000841\n",
       "22           MCA-M2 occlusion    0.000742\n",
       "5                Hypertension    0.000556\n",
       "2   Antithrombotic medication    0.000426\n",
       "1                         Sex    0.000369\n",
       "7                Dyslipidemia    0.000303\n",
       "12         Ant/post occlusion    0.000220\n",
       "13               BA occlusion    0.000187\n",
       "21      MCA m1 dist occlusion    0.000133\n",
       "18              CA intra no-T    0.000023\n",
       "14               VA occlusion    0.000000\n",
       "15              PCA occlusion   -0.000004\n",
       "16              ACA occlusion   -0.000013\n",
       "19                   CA extra   -0.000013\n",
       "8         Atrial fibrillation   -0.000214\n",
       "20      proximal M1 occlusion   -0.000291"
      ]
     },
     "execution_count": 34,
     "metadata": {},
     "output_type": "execute_result"
    }
   ],
   "source": [
    "# permutation-based feature importance\n",
    "permutation_importance_result = permutation_importance(clf_RFr, X_train_reperfusion, y_train_reperfusion, n_repeats=100, random_state=rnd_num)\n",
    "feature_importance_pi_RFr = pd.DataFrame({\n",
    "    'Feature': X_test_reperfusion.columns,\n",
    "    'Importance': np.round(permutation_importance_result.importances_mean, 6)\n",
    "})\n",
    "feature_importance_pi_RFr = feature_importance_pi_RFr.sort_values(by='Importance', ascending=False)\n",
    "feature_importance_pi_RFr"
   ]
  },
  {
   "cell_type": "code",
   "execution_count": 54,
   "id": "47922d1a-0314-4102-a23a-0a7617eaec97",
   "metadata": {},
   "outputs": [
    {
     "data": {
      "text/html": [
       "<div>\n",
       "<style scoped>\n",
       "    .dataframe tbody tr th:only-of-type {\n",
       "        vertical-align: middle;\n",
       "    }\n",
       "\n",
       "    .dataframe tbody tr th {\n",
       "        vertical-align: top;\n",
       "    }\n",
       "\n",
       "    .dataframe thead th {\n",
       "        text-align: right;\n",
       "    }\n",
       "</style>\n",
       "<table border=\"1\" class=\"dataframe\">\n",
       "  <thead>\n",
       "    <tr style=\"text-align: right;\">\n",
       "      <th></th>\n",
       "      <th>Model</th>\n",
       "      <th>RFc</th>\n",
       "      <th>RFf</th>\n",
       "    </tr>\n",
       "  </thead>\n",
       "  <tbody>\n",
       "    <tr>\n",
       "      <th>1</th>\n",
       "      <td>Train Acc</td>\n",
       "      <td>88.86</td>\n",
       "      <td>75.05</td>\n",
       "    </tr>\n",
       "    <tr>\n",
       "      <th>2</th>\n",
       "      <td>CV Acc</td>\n",
       "      <td>87.12</td>\n",
       "      <td>75.75</td>\n",
       "    </tr>\n",
       "    <tr>\n",
       "      <th>3</th>\n",
       "      <td>Test Acc</td>\n",
       "      <td>87.21</td>\n",
       "      <td>77.37</td>\n",
       "    </tr>\n",
       "    <tr>\n",
       "      <th>4</th>\n",
       "      <td>AUROC</td>\n",
       "      <td>0.85</td>\n",
       "      <td>0.85</td>\n",
       "    </tr>\n",
       "    <tr>\n",
       "      <th>5</th>\n",
       "      <td>AUROC lower bound</td>\n",
       "      <td>0.79</td>\n",
       "      <td>0.83</td>\n",
       "    </tr>\n",
       "    <tr>\n",
       "      <th>6</th>\n",
       "      <td>AUROC upper bound</td>\n",
       "      <td>0.9</td>\n",
       "      <td>0.86</td>\n",
       "    </tr>\n",
       "    <tr>\n",
       "      <th>7</th>\n",
       "      <td>AUPRC</td>\n",
       "      <td>0.97</td>\n",
       "      <td>0.91</td>\n",
       "    </tr>\n",
       "    <tr>\n",
       "      <th>8</th>\n",
       "      <td>AUPRC lower bound</td>\n",
       "      <td>0.96</td>\n",
       "      <td>0.89</td>\n",
       "    </tr>\n",
       "    <tr>\n",
       "      <th>9</th>\n",
       "      <td>AUPRC upper bound</td>\n",
       "      <td>0.98</td>\n",
       "      <td>0.92</td>\n",
       "    </tr>\n",
       "    <tr>\n",
       "      <th>10</th>\n",
       "      <td>Avg F1 Score</td>\n",
       "      <td>0.84</td>\n",
       "      <td>0.77</td>\n",
       "    </tr>\n",
       "    <tr>\n",
       "      <th>11</th>\n",
       "      <td>Intercept</td>\n",
       "      <td>-0.027</td>\n",
       "      <td>-0.01</td>\n",
       "    </tr>\n",
       "    <tr>\n",
       "      <th>12</th>\n",
       "      <td>Slope</td>\n",
       "      <td>1.03</td>\n",
       "      <td>1.017</td>\n",
       "    </tr>\n",
       "  </tbody>\n",
       "</table>\n",
       "</div>"
      ],
      "text/plain": [
       "                Model    RFc    RFf\n",
       "1           Train Acc  88.86  75.05\n",
       "2              CV Acc  87.12  75.75\n",
       "3            Test Acc  87.21  77.37\n",
       "4               AUROC   0.85   0.85\n",
       "5   AUROC lower bound   0.79   0.83\n",
       "6   AUROC upper bound    0.9   0.86\n",
       "7               AUPRC   0.97   0.91\n",
       "8   AUPRC lower bound   0.96   0.89\n",
       "9   AUPRC upper bound   0.98   0.92\n",
       "10       Avg F1 Score   0.84   0.77\n",
       "11          Intercept -0.027  -0.01\n",
       "12              Slope   1.03  1.017"
      ]
     },
     "execution_count": 54,
     "metadata": {},
     "output_type": "execute_result"
    }
   ],
   "source": [
    "# summary of performance results for both RFnr and RFr models\n",
    "performance_results = pd.DataFrame(columns=['Model','RFnr','RFr'] , index=range(1,13))\n",
    "performance_results.loc[:, 'Model'] = ['Train Acc', 'CV Acc', 'Test Acc','AUROC', 'AUROC lower bound', 'AUROC upper bound',\n",
    "                           'AUPRC', 'AUPRC lower bound', 'AUPRC upper bound','Avg F1 Score', 'Intercept' , 'Slope']\n",
    "performance_results.loc[:, 'RFnr'] = [\n",
    "                           round(accuracy_score(y_true = y_train_nonreperfusion, y_pred = clf_RFnr.predict(X_train_nonreperfusion))*100,2),\n",
    "                           round(CV_score_RFnr*100, 2),\n",
    "                           round(Test_score_RFnr*100, 2),\n",
    "                           round(RFnr_eval_results['auroc'][0],2),\n",
    "                         round(RFnr_eval_results['auroc'][1],2),\n",
    "                         round(RFnr_eval_results['auroc'][2],2),\n",
    "                         round(RFnr_eval_results['auprc'][0],2),\n",
    "                         round(RFnr_eval_results['auprc'][1],2),\n",
    "                         round(RFnr_eval_results['auprc'][2],2),\n",
    "                           round(f1_score(y_test_nonreperfusion, y_pred_nonreperfusion_RFnr, average='weighted'),2),\n",
    "                        round(intercept_RFnr, 3),\n",
    "                        round(slope_RFnr,3)]\n",
    "\n",
    "performance_results.loc[:, 'RFr'] = [\n",
    "                           round(accuracy_score(y_true = y_train_reperfusion, y_pred = clf_RFr.predict(X_train_reperfusion))*100,2),\n",
    "                           round(CV_score_RFr*100, 2),\n",
    "                           round(Test_score_RFr*100, 2),\n",
    "                           round(RFr_eval_results['auroc'][0],2),\n",
    "                         round(RFr_eval_results['auroc'][1],2),\n",
    "                         round(RFr_eval_results['auroc'][2],2),\n",
    "                         round(RFr_eval_results['auprc'][0],2),\n",
    "                         round(RFr_eval_results['auprc'][1],2),\n",
    "                         round(RFr_eval_results['auprc'][2],2),\n",
    "                           round(f1_score(y_test_reperfusion, y_pred_reperfusion_RFr, average='weighted'),2),\n",
    "                        round(intercept_RFr, 3),\n",
    "                        round(slope_RFr,3)]\n",
    "\n",
    "performance_results"
   ]
  },
  {
   "cell_type": "markdown",
   "id": "fe204598",
   "metadata": {},
   "source": [
    "# RF Prediction Phase"
   ]
  },
  {
   "cell_type": "markdown",
   "id": "df44aa02-7e29-4bbb-a480-91ed873771f7",
   "metadata": {},
   "source": [
    "## Predicting for nonreperfusion group"
   ]
  },
  {
   "cell_type": "code",
   "execution_count": 36,
   "id": "f92be18a-c398-40cb-adae-0d1e75fd8610",
   "metadata": {},
   "outputs": [],
   "source": [
    "# calculate pred probs of whole nonreperfusion group on models RFr and RFr\n",
    "\n",
    "y_pred_nonreperfusion_all_RFnr = clf_RFnr.predict(df_nonreperfusion[pre_treat_features])\n",
    "y_pred_proba_nonreperfusion_all_RFnr = clf_RFnr.predict_proba(df_nonreperfusion[pre_treat_features])[:,1]\n",
    "\n",
    "y_pred_nonreperfusion_all_RFr = clf_RFr.predict(df_nonreperfusion[pre_treat_features])\n",
    "y_pred_proba_nonreperfusion_all_RFr = clf_RFr.predict_proba(df_nonreperfusion[pre_treat_features])[:,1]"
   ]
  },
  {
   "cell_type": "markdown",
   "id": "5fbf774d-854c-4fe5-ab3e-cc0ee003e7c0",
   "metadata": {},
   "source": [
    "#### Prediction probs distribution chart - nonreperfusion group"
   ]
  },
  {
   "cell_type": "code",
   "execution_count": 37,
   "id": "a41a5166-ed47-4a67-b936-d7ddc2130ee9",
   "metadata": {},
   "outputs": [
    {
     "data": {
      "image/png": "[encoded data removed]",
      "text/plain": [
       "<Figure size 800x400 with 1 Axes>"
      ]
     },
     "metadata": {},
     "output_type": "display_data"
    }
   ],
   "source": [
    "# pred prob distribution for nonreperfusion\n",
    "plt.figure(figsize=(8,4))\n",
    "plt.hist(y_pred_proba_nonreperfusion_all_RFr[df_nonreperfusion.D90_mrs_binary==0], bins=20, label='Good Outcome', alpha=0.7, color='g')\n",
    "plt.hist(y_pred_proba_nonreperfusion_all_RFr[df_nonreperfusion.D90_mrs_binary==1], bins=20, label='Bad Outcome', alpha=0.3, color='r')\n",
    "plt.xlabel('Probability of having bad outcome', fontsize=10)\n",
    "plt.ylabel('Number of patients in each class', fontsize=10)\n",
    "plt.title('reperfusion Group')\n",
    "plt.legend(fontsize=10)\n",
    "plt.tick_params(axis='both', labelsize=15, pad=5)\n",
    "plt.show()"
   ]
  },
  {
   "cell_type": "markdown",
   "id": "9250d4d1-43d3-450e-9ad6-58d14f984897",
   "metadata": {},
   "source": [
    "## Predicting for reperfusion group"
   ]
  },
  {
   "cell_type": "code",
   "execution_count": 38,
   "id": "621e7391",
   "metadata": {},
   "outputs": [],
   "source": [
    "# calculate pred probs of whole reperfusion on models RFnr and RFr\n",
    "\n",
    "y_pred_reperfusion_all_RFnr = clf_RFnr.predict(df_reperfusion[pre_treat_features])\n",
    "y_pred_proba_reperfusion_all_RFnr = clf_RFnr.predict_proba(df_reperfusion[pre_treat_features])[:,1]\n",
    "\n",
    "y_pred_reperfusion_all_RFr = clf_RFr.predict(df_reperfusion[pre_treat_features])\n",
    "y_pred_proba_reperfusion_all_RFr = clf_RFr.predict_proba(df_reperfusion[pre_treat_features])[:,1]"
   ]
  },
  {
   "cell_type": "markdown",
   "id": "caf8e80d",
   "metadata": {},
   "source": [
    "#### Prediction probs distribution chart - reperfusion group"
   ]
  },
  {
   "cell_type": "code",
   "execution_count": 39,
   "id": "bba3fd99",
   "metadata": {},
   "outputs": [
    {
     "data": {
      "image/png": "[encoded data removed]",
      "text/plain": [
       "<Figure size 800x400 with 1 Axes>"
      ]
     },
     "metadata": {},
     "output_type": "display_data"
    }
   ],
   "source": [
    "# pred prob distribution for reperfusion\n",
    "plt.figure(figsize=(8,4))\n",
    "plt.hist(y_pred_proba_reperfusion_all_RFnr[df_reperfusion.D90_mrs_binary==0], bins=20, label='Good Outcome', alpha=0.7, color='g')\n",
    "plt.hist(y_pred_proba_reperfusion_all_RFnr[df_reperfusion.D90_mrs_binary==1], bins=20, label='Bad Outcome', alpha=0.3, color='r')\n",
    "plt.xlabel('Probability of having bad outcome', fontsize=10)\n",
    "plt.ylabel('Number of patients in each class', fontsize=10)\n",
    "plt.title('reperfusion Group')\n",
    "plt.legend(fontsize=10)\n",
    "plt.tick_params(axis='both', labelsize=15, pad=5)\n",
    "plt.show()"
   ]
  },
  {
   "cell_type": "markdown",
   "id": "91957b8d",
   "metadata": {},
   "source": [
    "## Statistical Analysis\n"
   ]
  },
  {
   "cell_type": "code",
   "execution_count": 40,
   "id": "df555ef8",
   "metadata": {},
   "outputs": [
    {
     "name": "stdout",
     "output_type": "stream",
     "text": [
      "p-value: 0.0\n",
      "We reject null hypothesis in favor of alternative hypothesis!\n",
      "There is significant difference between the groups\n"
     ]
    }
   ],
   "source": [
    "# Conducting two-sample ttest for comparing predictions and actual outcomes\n",
    "result = pg.ttest(y_pred_reperfusion_all_RFnr,\n",
    "                  df_reperfusion.D90_mrs_binary,\n",
    "                  correction=True)\n",
    " \n",
    "alpha = 0.05 # Significance Level\n",
    "\n",
    "print(f\"p-value: {result['p-val'][0]}\")\n",
    "if result['p-val'][0] < alpha:\n",
    "    print(\"We reject null hypothesis in favor of alternative hypothesis!\\nThere is significant difference between the groups\")\n",
    "else:\n",
    "    print(\"We fail to reject null hypothesis\")"
   ]
  },
  {
   "cell_type": "markdown",
   "id": "d34564b8-66dd-4ec1-99ac-afaf93326903",
   "metadata": {},
   "source": [
    "## Final Results - nonreperfusion group"
   ]
  },
  {
   "cell_type": "code",
   "execution_count": 41,
   "id": "ca482cc2-99f9-4654-8d86-8f233913eaa6",
   "metadata": {},
   "outputs": [],
   "source": [
    "df_nonreperfusion_base = df.query(\"`Final TICI` <= 2\")[pre_treat_features]\n",
    "df_nonreperfusion_base['D90_mrs_binary'] = df.query(\"`Final TICI` <= 2\")['D90_mrs_binary']\n",
    "df_nonreperfusion_base['D90_mrs_binary'] = df.query(\"`Final TICI` <= 2\")['D90_mrs_binary']"
   ]
  },
  {
   "cell_type": "code",
   "execution_count": 42,
   "id": "10538b26-4540-446d-996a-b50ab197906d",
   "metadata": {},
   "outputs": [],
   "source": [
    "df_nonreperfusion_conc = df_nonreperfusion_base.copy(deep=True)\n",
    "df_nonreperfusion_conc['pred_prob_RFnr'] = y_pred_proba_nonreperfusion_all_RFnr\n",
    "df_nonreperfusion_conc['pred_prob_RFr'] = y_pred_proba_nonreperfusion_all_RFr\n",
    "df_nonreperfusion_conc['pred_RF'] = y_pred_nonreperfusion_all_RFnr\n",
    "df_nonreperfusion_conc['ITE'] = y_pred_proba_nonreperfusion_all_RFnr - y_pred_proba_nonreperfusion_all_RFr"
   ]
  },
  {
   "cell_type": "markdown",
   "id": "c65eb30c",
   "metadata": {},
   "source": [
    "## Final Results - reperfusion group"
   ]
  },
  {
   "cell_type": "code",
   "execution_count": 43,
   "id": "8a93fcac-ceaa-42c1-9acc-d398454fe7cf",
   "metadata": {},
   "outputs": [],
   "source": [
    "df_reperfusion_base = df.query(\"`Final TICI` >= 3\")[pre_treat_features]\n",
    "df_reperfusion_base['D90_mrs_binary'] = df.query(\"`Final TICI` >= 3\")['D90_mrs_binary']\n",
    "df_reperfusion_base['D90_mrs_binary'] = df.query(\"`Final TICI` >= 3\")['D90_mrs_binary']"
   ]
  },
  {
   "cell_type": "code",
   "execution_count": 44,
   "id": "1342d941",
   "metadata": {},
   "outputs": [],
   "source": [
    "df_reperfusion_conc = df_reperfusion_base.copy(deep=True)\n",
    "df_reperfusion_conc['pred_prob_RFnr'] = y_pred_proba_reperfusion_all_RFnr\n",
    "df_reperfusion_conc['pred_prob_RFr'] = y_pred_proba_reperfusion_all_RFr\n",
    "df_reperfusion_conc['pred_RF'] = y_pred_reperfusion_all_RFnr\n",
    "df_reperfusion_conc['ITE'] = y_pred_proba_reperfusion_all_RFnr - y_pred_proba_reperfusion_all_RFr"
   ]
  },
  {
   "cell_type": "code",
   "execution_count": 45,
   "id": "26d06a60-9537-4a44-8162-52cf2531a009",
   "metadata": {},
   "outputs": [
    {
     "name": "stdout",
     "output_type": "stream",
     "text": [
      "Number of non-treated patients with no benefit: 301\n",
      "Number of treated patients with no benefit: 1364\n"
     ]
    }
   ],
   "source": [
    "print(f\"Number of non-treated patients with no benefit: {len(df_nonreperfusion_conc.loc[df_nonreperfusion_conc['ITE'] < 0])}\")\n",
    "print(f\"Number of treated patients with no benefit: {len(df_reperfusion_conc.loc[df_reperfusion_conc['ITE'] < 0])}\")"
   ]
  },
  {
   "cell_type": "markdown",
   "id": "ae817971-6490-4190-bb51-62fd2ac9321a",
   "metadata": {},
   "source": [
    "### Average causal effect for the two groups"
   ]
  },
  {
   "cell_type": "code",
   "execution_count": 46,
   "id": "1a6e34b2-6480-4430-8b41-2e36427a5593",
   "metadata": {},
   "outputs": [
    {
     "name": "stdout",
     "output_type": "stream",
     "text": [
      "CI AVE\n",
      "Bootstrapped Mean = 19.8\n",
      "95% CI = [19.1 20.6]\n",
      "\n",
      "CI number of patients with negative ITE\n",
      "Bootstrapped Count = 302\n",
      "95% CI = [270. 334.]\n"
     ]
    }
   ],
   "source": [
    "# Bootstrap for the average ITE and number of nonreperfusion group patients with negative ITE\n",
    "mean_lengths, mean_len, n_iter = [], [], 1000\n",
    "for i in range(n_iter):\n",
    "    temp_sample = np.random.choice(df_nonreperfusion_conc['ITE'], replace=True, size=len(df_nonreperfusion_conc['ITE']))\n",
    "    sample_mean = np.mean(temp_sample)\n",
    "    mean_len.append((temp_sample < 0).sum())\n",
    "    mean_lengths.append(sample_mean)\n",
    "\n",
    "# Calculate bootstrapped mean and 95% confidence interval.\n",
    "print('CI AVE')\n",
    "boot_mean = np.mean(mean_lengths)\n",
    "boot_95_ci = np.percentile(mean_lengths, [2.5, 97.5])\n",
    "print(f\"Bootstrapped Mean = {boot_mean*100:.1f}\\n95% CI = {np.round(boot_95_ci*100,1)}\")\n",
    "\n",
    "print('\\nCI number of patients with negative ITE')\n",
    "boot_len = np.mean(mean_len)\n",
    "boot_95_ci = np.percentile(mean_len, [2.5, 97.5])\n",
    "print(f\"Bootstrapped Count = {boot_len:.0f}\\n95% CI = {np.round(boot_95_ci,0)}\")"
   ]
  },
  {
   "cell_type": "code",
   "execution_count": 47,
   "id": "c50ed6d2-f0a9-43f7-9281-1fd5c746bc49",
   "metadata": {},
   "outputs": [
    {
     "name": "stdout",
     "output_type": "stream",
     "text": [
      "CI AVE\n",
      "Bootstrapped Mean = 22.0\n",
      "95% CI = [21.7 22.3]\n",
      "\n",
      "CI number of patients with negative ITE\n",
      "Bootstrapped Count = 1365\n",
      "95% CI = [1293. 1431.]\n"
     ]
    }
   ],
   "source": [
    "# Bootstrap for the average ITE and number of reperfusion group patients with negative ITE\n",
    "mean_lengths, mean_len, n_iter = [], [], 1000\n",
    "for i in range(n_iter):\n",
    "    temp_sample = np.random.choice(df_reperfusion_conc['ITE'], replace=True, size=len(df_reperfusion_conc['ITE']))\n",
    "    sample_mean = np.mean(temp_sample)\n",
    "    mean_len.append((temp_sample < 0).sum())\n",
    "    mean_lengths.append(sample_mean)\n",
    "\n",
    "# Calculate bootstrapped mean and 95% confidence interval.\n",
    "print('CI AVE')\n",
    "boot_mean = np.mean(mean_lengths)\n",
    "boot_95_ci = np.percentile(mean_lengths, [2.5, 97.5])\n",
    "print(f\"Bootstrapped Mean = {boot_mean*100:.1f}\\n95% CI = {np.round(boot_95_ci*100,1)}\")\n",
    "\n",
    "print('\\nCI number of patients with negative ITE')\n",
    "boot_len = np.mean(mean_len)\n",
    "boot_95_ci = np.percentile(mean_len, [2.5, 97.5])\n",
    "print(f\"Bootstrapped Count = {boot_len:.0f}\\n95% CI = {np.round(boot_95_ci,0)}\")"
   ]
  },
  {
   "cell_type": "code",
   "execution_count": 48,
   "id": "748f001a",
   "metadata": {},
   "outputs": [
    {
     "name": "stdout",
     "output_type": "stream",
     "text": [
      "Number needed to treat in control group: 6\n",
      "Number needed to treat in treatment group: 5\n"
     ]
    }
   ],
   "source": [
    "print(f\"Number needed to treat in nonreperfusion group: {calculate_nnt(y_pred_proba_nonreperfusion_all_RFnr , y_pred_proba_nonreperfusion_all_RFr)}\")\n",
    "print(f\"Number needed to treat in reperfusion group: {calculate_nnt(y_pred_proba_reperfusion_all_RFnr , y_pred_proba_reperfusion_all_RFr)}\")"
   ]
  },
  {
   "cell_type": "code",
   "execution_count": 50,
   "id": "29acf7c3-4586-4494-a289-fe40652696b7",
   "metadata": {},
   "outputs": [
    {
     "data": {
      "text/plain": [
       "count    1718.000000\n",
       "mean        0.198376\n",
       "std         0.155364\n",
       "min        -0.058087\n",
       "25%         0.054354\n",
       "50%         0.206192\n",
       "75%         0.317430\n",
       "max         0.615413\n",
       "Name: ITE, dtype: float64"
      ]
     },
     "execution_count": 50,
     "metadata": {},
     "output_type": "execute_result"
    }
   ],
   "source": [
    "# description of the estimated ITEs\n",
    "df_nonreperfusion_conc['ITE'].describe()"
   ]
  },
  {
   "cell_type": "code",
   "execution_count": 51,
   "id": "cc6696f3-aef8-41b8-8a12-7e9c594ad520",
   "metadata": {},
   "outputs": [
    {
     "data": {
      "text/plain": [
       "count    10339.000000\n",
       "mean         0.220279\n",
       "std          0.154668\n",
       "min         -0.066594\n",
       "25%          0.080402\n",
       "50%          0.232605\n",
       "75%          0.338541\n",
       "max          0.652956\n",
       "Name: ITE, dtype: float64"
      ]
     },
     "execution_count": 51,
     "metadata": {},
     "output_type": "execute_result"
    }
   ],
   "source": [
    "# description of the estimated ITEs\n",
    "df_reperfusion_conc['ITE'].describe()"
   ]
  }
 ],
 "metadata": {
  "kernelspec": {
   "display_name": "Python 3 (ipykernel)",
   "language": "python",
   "name": "python3"
  },
  "language_info": {
   "codemirror_mode": {
    "name": "ipython",
    "version": 3
   },
   "file_extension": ".py",
   "mimetype": "text/x-python",
   "name": "python",
   "nbconvert_exporter": "python",
   "pygments_lexer": "ipython3",
   "version": "3.10.4"
  }
 },
 "nbformat": 4,
 "nbformat_minor": 5
}
